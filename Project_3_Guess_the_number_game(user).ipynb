{
  "nbformat": 4,
  "nbformat_minor": 0,
  "metadata": {
    "colab": {
      "provenance": [],
      "authorship_tag": "ABX9TyNnCFS9msvNGmsmu52FnbI6",
      "include_colab_link": true
    },
    "kernelspec": {
      "name": "python3",
      "display_name": "Python 3"
    },
    "language_info": {
      "name": "python"
    }
  },
  "cells": [
    {
      "cell_type": "markdown",
      "metadata": {
        "id": "view-in-github",
        "colab_type": "text"
      },
      "source": [
        "<a href=\"https://colab.research.google.com/github/Zain-Ansari12/Q3-Submission-projects/blob/main/Project_3_Guess_the_number_game(user).ipynb\" target=\"_parent\"><img src=\"https://colab.research.google.com/assets/colab-badge.svg\" alt=\"Open In Colab\"/></a>"
      ]
    },
    {
      "cell_type": "code",
      "execution_count": 1,
      "metadata": {
        "colab": {
          "base_uri": "https://localhost:8080/"
        },
        "id": "b2CaTmCVJJ4w",
        "outputId": "ce6008be-dcfb-4451-cee0-38d315b981da"
      },
      "outputs": [
        {
          "output_type": "stream",
          "name": "stdout",
          "text": [
            "Computer Thought a number.Now guess it\n",
            "Guess the Number between 1 till 10. : 3\n",
            "Wow! your guess is correct😜😜👌\n"
          ]
        }
      ],
      "source": [
        "\n",
        "import random\n",
        "print(\"Computer Thought a number.Now guess it\")\n",
        "secret_number = random.randint(1,10)\n",
        "\n",
        "try:\n",
        "  while True:\n",
        "    user_input = int(input(\"Guess the Number between 1 till 10. : \"))\n",
        "\n",
        "    if user_input == secret_number:\n",
        "      print(\"Wow! your guess is correct😜😜👌\")\n",
        "      break\n",
        "    elif user_input < secret_number:\n",
        "      print(\"Incorrect! please guess bigger number.\")\n",
        "    elif user_input > secret_number:\n",
        "      print(\"Incorrect! please guess smaller number.\")\n",
        "except ValueError:\n",
        "  print(\"wrong input!\")"
      ]
    }
  ]
}