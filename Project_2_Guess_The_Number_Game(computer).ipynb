{
  "nbformat": 4,
  "nbformat_minor": 0,
  "metadata": {
    "colab": {
      "provenance": [],
      "authorship_tag": "ABX9TyOkwBCX0s5C7IdggMZFXlGU",
      "include_colab_link": true
    },
    "kernelspec": {
      "name": "python3",
      "display_name": "Python 3"
    },
    "language_info": {
      "name": "python"
    }
  },
  "cells": [
    {
      "cell_type": "markdown",
      "metadata": {
        "id": "view-in-github",
        "colab_type": "text"
      },
      "source": [
        "<a href=\"https://colab.research.google.com/github/Zain-Ansari12/Q3-Submission-projects/blob/main/Project_2_Guess_The_Number_Game(computer).ipynb\" target=\"_parent\"><img src=\"https://colab.research.google.com/assets/colab-badge.svg\" alt=\"Open In Colab\"/></a>"
      ]
    },
    {
      "cell_type": "code",
      "source": [],
      "metadata": {
        "id": "u8uJvrMIIWim"
      },
      "execution_count": null,
      "outputs": []
    },
    {
      "cell_type": "code",
      "execution_count": 5,
      "metadata": {
        "colab": {
          "base_uri": "https://localhost:8080/"
        },
        "id": "sWLpYxH-FswC",
        "outputId": "26624db0-39ec-40a8-9091-5e6b3eee5796"
      },
      "outputs": [
        {
          "output_type": "stream",
          "name": "stdout",
          "text": [
            "Think a number between 1 till 10🤨\n",
            "write your number computer will guess it4\n",
            "Computer's first guess is: 2\n",
            "Is this guess correct? (greater or smaller or correct):smaller\n",
            "too low\n",
            "Computer's new guess is: 3\n",
            "Is this guess correct? (greater or smaller or correct):smaller\n",
            "too low\n",
            "Computer's new guess is: 1\n",
            "Is this guess correct? (greater or smaller or correct):smaller\n",
            "too low\n",
            "Computer's new guess is: 7\n",
            "Is this guess correct? (greater or smaller or correct):greater\n",
            "high...\n",
            "Computer's new guess is: 3\n",
            "Is this guess correct? (greater or smaller or correct):smaller\n",
            "too low\n",
            "Computer's new guess is: 10\n",
            "Is this guess correct? (greater or smaller or correct):greater\n",
            "high...\n",
            "Computer's new guess is: 4\n",
            "Is this guess correct? (greater or smaller or correct):correct\n",
            "Yayy! Computer guess is correct✔✔\n"
          ]
        }
      ],
      "source": [
        "\n",
        "import random\n",
        "print(\"Think a number between 1 till 10🤨\")\n",
        "user_input = int(input(\"write your number computer will guess it\"))\n",
        "\n",
        "computer_num = random.randint(1,10)\n",
        "print(f\"Computer's first guess is: {computer_num}\")\n",
        "\n",
        "\n",
        "while True:\n",
        " feedback = input(\"Is this guess correct? (greater or smaller or correct):\")\n",
        "\n",
        " if feedback == \"correct\":\n",
        "   print(\"Yayy! Computer guess is correct✔✔\")\n",
        "   break\n",
        " elif feedback == \"smaller\":\n",
        "   print(\"too low\")\n",
        " elif feedback == \"greater\":\n",
        "   print(\"high...\")\n",
        " else:\n",
        "   print(\"wrong input..\")\n",
        "\n",
        " computer_num = random.randint(1,10)\n",
        " print(f\"Computer's new guess is: {computer_num}\")"
      ]
    }
  ]
}