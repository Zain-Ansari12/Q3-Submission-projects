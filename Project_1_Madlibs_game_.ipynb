{
  "nbformat": 4,
  "nbformat_minor": 0,
  "metadata": {
    "colab": {
      "provenance": [],
      "authorship_tag": "ABX9TyM7rhkRusuUQgyWCXa9ktTq",
      "include_colab_link": true
    },
    "kernelspec": {
      "name": "python3",
      "display_name": "Python 3"
    },
    "language_info": {
      "name": "python"
    }
  },
  "cells": [
    {
      "cell_type": "markdown",
      "metadata": {
        "id": "view-in-github",
        "colab_type": "text"
      },
      "source": [
        "<a href=\"https://colab.research.google.com/github/Zain-Ansari12/Q3-Submission-projects/blob/main/Project_1_Madlibs_game_.ipynb\" target=\"_parent\"><img src=\"https://colab.research.google.com/assets/colab-badge.svg\" alt=\"Open In Colab\"/></a>"
      ]
    },
    {
      "cell_type": "code",
      "execution_count": 2,
      "metadata": {
        "colab": {
          "base_uri": "https://localhost:8080/"
        },
        "id": "3mrjyHFuDwnG",
        "outputId": "d15f1241-77e8-4190-92bf-beebf8548ed8"
      },
      "outputs": [
        {
          "output_type": "stream",
          "name": "stdout",
          "text": [
            "Enter Your Name...zain\n",
            "Enter City Name...Lahore\n",
            "Enter suitable verb..play\n",
            "Enter any aniaml Name..dogs\n",
            "Enter adjective..domestic\n",
            "zain lives in Lahore .Lahore is a big city.zain love to play with domestic dogs\n"
          ]
        }
      ],
      "source": [
        "\n",
        "def Madlibs():\n",
        "  name = str(input(\"Enter Your Name...\"))\n",
        "  city = str(input(\"Enter City Name...\"))\n",
        "  verb = str(input(\"Enter suitable verb..\"))\n",
        "  animal = str(input(\"Enter any aniaml Name..\"))\n",
        "  adjective = str(input(\"Enter adjective..\"))\n",
        "\n",
        "  play = f\"{name} lives in {city} .{city} is a big city.{name} love to {verb} with {adjective} {animal}\"\n",
        "  print(play)\n",
        "Madlibs()"
      ]
    }
  ]
}